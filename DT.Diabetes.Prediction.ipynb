{
 "cells": [
  {
   "cell_type": "code",
   "execution_count": null,
   "id": "fcff09a3",
   "metadata": {},
   "outputs": [],
   "source": [
    "\n",
    "import pandas as pd\n",
    "import matplotlib.pyplot as plt\n",
    "# Assuming 'diabetes_data.csv' is your dataset file\n",
    "# Replace this with the appropriate path to your dataset\n",
    "file_path = \"/Resources/diabetes_prediction_dataset.csv\"\n",
    "\n",
    "# Load the dataset\n",
    "data = pd.read_csv(file_path)\n",
    "\n",
    "# Group data by gender and diabetes status\n",
    "gender_diabetes_counts = data.groupby(['gender', 'diabetes']).size().unstack()\n",
    "\n",
    "# Plotting Gender vs. Diabetes using Matplotlib\n",
    "plt.figure(figsize=(8, 6))\n",
    "\n",
    "# Plot bars for each gender category\n",
    "bar_width = 0.35\n",
    "index = range(len(gender_diabetes_counts))\n",
    "\n",
    "# Plot bars for 'No Diabetes' and 'Diabetes' for each gender\n",
    "plt.bar(index, gender_diabetes_counts[0], width=bar_width, label='No Diabetes')\n",
    "plt.bar(index, gender_diabetes_counts[1], width=bar_width, label='Diabetes', bottom=gender_diabetes_counts[0])\n",
    "\n",
    "# Set x-axis labels and tick positions\n",
    "plt.xlabel('Gender')\n",
    "plt.ylabel('Count')\n",
    "plt.title('Gender vs. Diabetes')\n",
    "plt.xticks(index, gender_diabetes_counts.index)  # Use gender categories as x-axis labels\n",
    "plt.legend()\n",
    "\n",
    "# Show plot\n",
    "plt.show()\n",
    "\n",
    "\n"
   ]
  },
  {
   "cell_type": "code",
   "execution_count": null,
   "id": "758dbc0d",
   "metadata": {},
   "outputs": [],
   "source": [
    "sns.countplot(x='gender', hue='diabetes', data=df)\n",
    "plt.title('Gender vs Diabetes')\n",
    "plt.show()\n"
   ]
  },
  {
   "cell_type": "code",
   "execution_count": null,
   "id": "451398cf",
   "metadata": {},
   "outputs": [],
   "source": [
    "import pandas as pd\n",
    "import matplotlib.pyplot as plt\n",
    "import seaborn as sns\n",
    "\n",
    "# Load the dataset (replace 'dataset.csv' with your file path)\n",
    "file_path = \"path/to/dataset.csv\"\n",
    "data = pd.read_csv(file_path)\n",
    "\n",
    "# Plotting Age vs. Diabetes using Seaborn (Box Plot)\n",
    "plt.figure(figsize=(10, 6))\n",
    "\n",
    "# Create a box plot of ages for diabetic vs. non-diabetic individuals\n",
    "sns.boxplot(x='diabetes', y='age', data=data)\n",
    "plt.title('Age vs. Diabetes Status')\n",
    "plt.xlabel('Diabetes Status (0: No, 1: Yes)')\n",
    "plt.ylabel('Age')\n",
    "\n",
    "# Show plot\n",
    "plt.show()\n",
    "\n",
    "\n"
   ]
  }
 ],
 "metadata": {
  "kernelspec": {
   "display_name": "Python 3 (ipykernel)",
   "language": "python",
   "name": "python3"
  },
  "language_info": {
   "codemirror_mode": {
    "name": "ipython",
    "version": 3
   },
   "file_extension": ".py",
   "mimetype": "text/x-python",
   "name": "python",
   "nbconvert_exporter": "python",
   "pygments_lexer": "ipython3",
   "version": "3.11.5"
  }
 },
 "nbformat": 4,
 "nbformat_minor": 5
}
